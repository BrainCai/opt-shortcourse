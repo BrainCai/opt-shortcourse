{
 "cells": [
  {
   "cell_type": "code",
   "execution_count": 1,
   "metadata": {},
   "outputs": [],
   "source": [
    "from collections import defaultdict\n",
    "import numpy as np\n",
    "import scipy\n",
    "import scipy.sparse as sps\n",
    "import math\n",
    "import matplotlib.pyplot as plt\n",
    "import time\n",
    "from sklearn.datasets import load_svmlight_file\n",
    "%matplotlib inline"
   ]
  },
  {
   "cell_type": "markdown",
   "metadata": {},
   "source": [
    "# Data"
   ]
  },
  {
   "cell_type": "code",
   "execution_count": 2,
   "metadata": {
    "collapsed": true
   },
   "outputs": [],
   "source": [
    "d = 11\n",
    "A = np.random.normal(size = (d, 10))\n",
    "b = np.random.uniform(1, 0, d)"
   ]
  },
  {
   "cell_type": "markdown",
   "metadata": {},
   "source": [
    "or use a real dataset in LibSVM format"
   ]
  },
  {
   "cell_type": "code",
   "execution_count": 3,
   "metadata": {},
   "outputs": [],
   "source": [
    "A, b = load_svmlight_file(\"../data/ionosphere.txt\")"
   ]
  },
  {
   "cell_type": "markdown",
   "metadata": {},
   "source": [
    "# Helper function"
   ]
  },
  {
   "cell_type": "code",
   "execution_count": 4,
   "metadata": {
    "collapsed": true
   },
   "outputs": [],
   "source": [
    "def batch_iter(y, tx, batch_size, num_batches=1, shuffle=True):\n",
    "    \"\"\"\n",
    "    Generate a minibatch iterator for a dataset.\n",
    "    Takes as input two iterables (here the output desired values 'y' and the input data 'tx')\n",
    "    Outputs an iterator which gives mini-batches of `batch_size` matching elements from `y` and `tx`.\n",
    "    Data can be randomly shuffled to avoid ordering in the original data messing with the randomness of the minibatches.\n",
    "    Example of use :\n",
    "    for minibatch_y, minibatch_tx in batch_iter(y, tx, 32):\n",
    "        <DO-SOMETHING>\n",
    "    \"\"\"\n",
    "    data_size = len(y)\n",
    "\n",
    "    if shuffle:\n",
    "        shuffle_indices = np.random.permutation(np.arange(data_size))\n",
    "        shuffled_y = y[shuffle_indices]\n",
    "        shuffled_tx = tx[shuffle_indices]\n",
    "    else:\n",
    "        shuffled_y = y\n",
    "        shuffled_tx = tx\n",
    "    for batch_num in range(num_batches):\n",
    "        start_index = batch_num * batch_size\n",
    "        end_index = min((batch_num + 1) * batch_size, data_size)\n",
    "        if start_index != end_index:\n",
    "            yield shuffled_y[start_index:end_index], shuffled_tx[start_index:end_index]"
   ]
  },
  {
   "cell_type": "markdown",
   "metadata": {},
   "source": [
    "# Stochastic gradient descent for Lasso"
   ]
  },
  {
   "cell_type": "code",
   "execution_count": 5,
   "metadata": {
    "collapsed": true
   },
   "outputs": [],
   "source": [
    "def lasso_function(A, b, reg_coef, alpha):\n",
    "    return 0.5 * np.linalg.norm(A.dot(alpha) - b) ** 2 + reg_coef * np.sum(np.abs(alpha))"
   ]
  },
  {
   "cell_type": "code",
   "execution_count": 6,
   "metadata": {
    "collapsed": true
   },
   "outputs": [],
   "source": [
    "def compute_stoch_gradient_lasso(A, b, reg_coef, alpha):\n",
    "    \"\"\"Compute a stochastic gradient from just few examples n and their corresponding y_n labels.\"\"\"\n",
    "    err = b - A.dot(alpha)\n",
    "    gradient = - A.T.dot(err) + reg_coef * np.sign(alpha) * A.shape[0]\n",
    "    return gradient"
   ]
  },
  {
   "cell_type": "code",
   "execution_count": 7,
   "metadata": {
    "collapsed": true
   },
   "outputs": [],
   "source": [
    "def stochastic_gradient_descent_lasso(A, b, reg_coef, gamma, batch_size=1, max_iter=1000, trace=False):\n",
    "    history = defaultdict(list) if trace else None\n",
    "    \n",
    "    num_data_points, num_features = np.shape(A)\n",
    "    alpha_t = np.zeros(num_features)\n",
    "    \n",
    "    start_time = time.time()\n",
    "    \n",
    "    for current_iter in range(0, max_iter):\n",
    "        if trace:\n",
    "            history['time'].append(time.time() - start_time)\n",
    "            history['objective_function'].append(lasso_function(A, b, reg_coef, alpha_t))\n",
    "        for b_batch, A_batch in batch_iter(b, A, batch_size=batch_size, num_batches=1):\n",
    "            gradient = compute_stoch_gradient_lasso(A_batch, b_batch, reg_coef / num_data_points, alpha_t)\n",
    "            alpha_t = alpha_t - gamma * gradient\n",
    "    return alpha_t, history"
   ]
  },
  {
   "cell_type": "code",
   "execution_count": 8,
   "metadata": {},
   "outputs": [],
   "source": [
    "x_t, history = stochastic_gradient_descent_lasso(A, b, 0.1, 0.005, max_iter=5000, trace=True, batch_size=1)"
   ]
  },
  {
   "cell_type": "code",
   "execution_count": 9,
   "metadata": {},
   "outputs": [
    {
     "data": {
      "text/plain": [
       "<matplotlib.text.Text at 0x115bd3d30>"
      ]
     },
     "execution_count": 9,
     "metadata": {},
     "output_type": "execute_result"
    },
    {
     "data": {
      "image/png": "[encoded data removed]",
      "text/plain": [
       "<matplotlib.figure.Figure at 0x112823860>"
      ]
     },
     "metadata": {},
     "output_type": "display_data"
    }
   ],
   "source": [
    "plt.semilogx(history['objective_function']) # log scale\n",
    "plt.xlabel(\"iteration\")\n",
    "plt.ylabel(\"objective value\")\n",
    "plt.title(\"objective value\")"
   ]
  },
  {
   "cell_type": "markdown",
   "metadata": {
    "collapsed": true
   },
   "source": [
    "# Coordinate Descent for Lasso"
   ]
  },
  {
   "cell_type": "code",
   "execution_count": 10,
   "metadata": {
    "collapsed": true
   },
   "outputs": [],
   "source": [
    "def soft_threshold(internal, reg_coef, current_feature_norm):\n",
    "    if internal > reg_coef:\n",
    "        return (internal - reg_coef) / (current_feature_norm ** 2)\n",
    "    elif internal < - reg_coef:\n",
    "        return (internal + reg_coef) / (current_feature_norm ** 2)\n",
    "    return 0.0"
   ]
  },
  {
   "cell_type": "code",
   "execution_count": 11,
   "metadata": {
    "collapsed": true
   },
   "outputs": [],
   "source": [
    "def coordinate_descent_lasso(A, b, reg_coef, max_iter=1000, trace=False, is_check=False,\n",
    "                             check_epsilon=1e-1):\n",
    "    history = defaultdict(list) if trace else None\n",
    "\n",
    "    num_features = np.shape(A)[1]\n",
    "    alpha_t = np.zeros(num_features)\n",
    "    residual = np.copy(b)\n",
    "\n",
    "    start_time = time.time()\n",
    "\n",
    "    for current_iter in range(0, max_iter):\n",
    "        if trace:\n",
    "            history['time'].append(time.time() - start_time)\n",
    "            history['objective_function'].append(lasso_function(A, b, reg_coef, alpha_t))\n",
    "        i = np.random.randint(0, num_features)\n",
    "        if sps.issparse(A):\n",
    "            current_feature = np.array(A[:, i].todense())\n",
    "        else:\n",
    "            current_feature = np.array(A[:, i])\n",
    "\n",
    "        current_feature_norm = np.linalg.norm(current_feature)\n",
    "        if current_feature_norm == 0:\n",
    "            alpha_t[i] = 0\n",
    "            continue\n",
    "        internal = (residual.reshape(-1)).dot(current_feature.reshape(-1)\n",
    "                    ) + alpha_t[i] * (current_feature_norm ** 2)\n",
    "        new_value = soft_threshold(internal, reg_coef, current_feature_norm)\n",
    "        residual += (current_feature * (alpha_t[i] - new_value)).reshape(residual.shape)\n",
    "        alpha_t[i] = np.copy(new_value)\n",
    "\n",
    "        if is_check:  # optional check if a slightly smaller or larger step would indeed make the function value worse\n",
    "            alpha_t_epsilon = np.zeros_like(alpha_t)\n",
    "            alpha_t_epsilon[i] = check_epsilon\n",
    "            if ((lasso_function(A, b, reg_coef, alpha_t + alpha_t_epsilon) <\n",
    "                            lasso_function(A, b, reg_coef, alpha_t)) or (\n",
    "                            lasso_function(A, b, reg_coef, alpha_t - alpha_t_epsilon) <\n",
    "                            lasso_function(A, b, reg_coef, alpha_t))):\n",
    "                print(\"ERROR!\")\n",
    "                print(\"iteration:\", current_iter)\n",
    "                print(\"objective function:\\t\", lasso_function(A, b, reg_coef, alpha_t))\n",
    "                print(\"\\t+eps:\\t\", lasso_function(A, b, reg_coef, alpha_t + alpha_t_epsilon))\n",
    "                print(\"\\t-eps:\\t\", lasso_function(A, b, reg_coef, alpha_t - alpha_t_epsilon))\n",
    "                print(\"current_feature_norm:\", current_feature_norm)\n",
    "                print(\"internal:\", internal)\n",
    "                print(\"alpha_t=\", alpha_t[i])\n",
    "                print(\"feature indexes:\", i)\n",
    "    return alpha_t, residual, history"
   ]
  },
  {
   "cell_type": "markdown",
   "metadata": {},
   "source": [
    "And finally run the optimization algorithm"
   ]
  },
  {
   "cell_type": "code",
   "execution_count": 12,
   "metadata": {},
   "outputs": [],
   "source": [
    "x_t, residual, history = coordinate_descent_lasso(A, b, 0.1, max_iter=1000, trace=True,\n",
    "                                                  is_check=True, check_epsilon=1e-6)"
   ]
  },
  {
   "cell_type": "code",
   "execution_count": 13,
   "metadata": {
    "scrolled": true
   },
   "outputs": [
    {
     "data": {
      "text/plain": [
       "<matplotlib.text.Text at 0x115c17828>"
      ]
     },
     "execution_count": 13,
     "metadata": {},
     "output_type": "execute_result"
    },
    {
     "data": {
      "image/png": "[encoded data removed]",
      "text/plain": [
       "<matplotlib.figure.Figure at 0x115be9ba8>"
      ]
     },
     "metadata": {},
     "output_type": "display_data"
    }
   ],
   "source": [
    "plt.semilogx(history['objective_function'])\n",
    "plt.xlabel(\"iteration\")\n",
    "plt.ylabel(\"objective value\")\n",
    "plt.title(\"objective value\")"
   ]
  },
  {
   "cell_type": "code",
   "execution_count": null,
   "metadata": {},
   "outputs": [],
   "source": []
  },
  {
   "cell_type": "code",
   "execution_count": null,
   "metadata": {
    "collapsed": true
   },
   "outputs": [],
   "source": []
  }
 ],
 "metadata": {
  "anaconda-cloud": {},
  "kernelspec": {
   "display_name": "Python 3",
   "language": "python",
   "name": "python3"
  },
  "language_info": {
   "codemirror_mode": {
    "name": "ipython",
    "version": 3
   },
   "file_extension": ".py",
   "mimetype": "text/x-python",
   "name": "python",
   "nbconvert_exporter": "python",
   "pygments_lexer": "ipython3",
   "version": "3.6.1"
  }
 },
 "nbformat": 4,
 "nbformat_minor": 1
}
