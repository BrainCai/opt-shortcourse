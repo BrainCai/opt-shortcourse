{
 "cells": [
  {
   "cell_type": "code",
   "execution_count": 1,
   "metadata": {
    "collapsed": true
   },
   "outputs": [],
   "source": [
    "# Useful starting lines\n",
    "%matplotlib inline\n",
    "import numpy as np\n",
    "import matplotlib.pyplot as plt\n",
    "%load_ext autoreload\n",
    "%autoreload 2"
   ]
  },
  {
   "cell_type": "markdown",
   "metadata": {},
   "source": [
    "# Load the data"
   ]
  },
  {
   "cell_type": "code",
   "execution_count": 2,
   "metadata": {
    "collapsed": true
   },
   "outputs": [],
   "source": [
    "import datetime\n",
    "from helpers import *\n",
    "\n",
    "height, weight, gender = load_data(sub_sample=False, add_outlier=False)\n",
    "x, mean_x, std_x = standardize(height)\n",
    "y, tx = build_model_data(x, weight)"
   ]
  },
  {
   "cell_type": "code",
   "execution_count": 3,
   "metadata": {},
   "outputs": [
    {
     "data": {
      "text/plain": [
       "((10000,), (10000, 2))"
      ]
     },
     "execution_count": 3,
     "metadata": {},
     "output_type": "execute_result"
    }
   ],
   "source": [
    "y.shape, tx.shape"
   ]
  },
  {
   "cell_type": "markdown",
   "metadata": {},
   "source": [
    "# Computing the Cost Function\n",
    "Fill in the `compute_cost` function below:"
   ]
  },
  {
   "cell_type": "code",
   "execution_count": 4,
   "metadata": {
    "collapsed": true
   },
   "outputs": [],
   "source": [
    "def calculate_mse(e):\n",
    "    \"\"\"Calculate the mse for vector e.\"\"\"\n",
    "    return 1/2*np.mean(e**2)\n",
    "\n",
    "\n",
    "def calculate_mae(e):\n",
    "    \"\"\"Calculate the mae for vector e.\"\"\"\n",
    "    return np.mean(np.abs(e))\n",
    "\n",
    "\n",
    "def compute_loss(y, tx, w):\n",
    "    \"\"\"Calculate the loss.\n",
    "\n",
    "    You can calculate the loss using mse or mae.\n",
    "    \"\"\"\n",
    "    e = y - tx.dot(w)\n",
    "    return calculate_mse(e)"
   ]
  },
  {
   "cell_type": "markdown",
   "metadata": {},
   "source": [
    "# Gradient Descent"
   ]
  },
  {
   "cell_type": "markdown",
   "metadata": {},
   "source": [
    "Again, please fill in the functions `compute_gradient` below:"
   ]
  },
  {
   "cell_type": "code",
   "execution_count": 5,
   "metadata": {
    "collapsed": true
   },
   "outputs": [],
   "source": [
    "def compute_gradient(y, tx, w):\n",
    "    \"\"\"Compute the gradient.\"\"\"\n",
    "    err = y - tx.dot(w)\n",
    "    grad = -tx.T.dot(err) / len(err)\n",
    "    return grad, err"
   ]
  },
  {
   "cell_type": "markdown",
   "metadata": {},
   "source": [
    "Please fill in the functions `gradient_descent` below:"
   ]
  },
  {
   "cell_type": "code",
   "execution_count": 6,
   "metadata": {
    "collapsed": true
   },
   "outputs": [],
   "source": [
    "def gradient_descent(y, tx, initial_w, max_iters, gamma):\n",
    "    \"\"\"Gradient descent algorithm.\"\"\"\n",
    "    # Define parameters to store w and loss\n",
    "    ws = [initial_w]\n",
    "    losses = []\n",
    "    w = initial_w\n",
    "    for n_iter in range(max_iters):\n",
    "        # compute loss, gradient\n",
    "        grad, err = compute_gradient(y, tx, w)\n",
    "        loss = calculate_mse(err)\n",
    "        # gradient w by descent update\n",
    "        w = w - gamma * grad\n",
    "        # store w and loss\n",
    "        ws.append(w)\n",
    "        losses.append(loss)\n",
    "        print(\"Gradient Descent({bi}/{ti}): loss={l}, w0={w0}, w1={w1}\".format(\n",
    "              bi=n_iter, ti=max_iters - 1, l=loss, w0=w[0], w1=w[1]))\n",
    "\n",
    "    return losses, ws"
   ]
  },
  {
   "cell_type": "markdown",
   "metadata": {},
   "source": [
    "Test your gradient descent function through gradient descent demo shown below:"
   ]
  },
  {
   "cell_type": "code",
   "execution_count": 7,
   "metadata": {},
   "outputs": [
    {
     "name": "stdout",
     "output_type": "stream",
     "text": [
      "Gradient Descent(0/49): loss=2792.2367127591674, w0=29.317568800842015, w1=5.391884973995655\n",
      "Gradient Descent(1/49): loss=1015.0521848293532, w0=46.90811008134726, w1=8.627015958393\n",
      "Gradient Descent(2/49): loss=375.26575477461876, w0=57.46243484965045, w1=10.5680945490314\n",
      "Gradient Descent(3/49): loss=144.94263995491335, w0=63.79502971063234, w1=11.732741703414455\n",
      "Gradient Descent(4/49): loss=62.02631861981966, w0=67.59458662722147, w1=12.431529996044297\n",
      "Gradient Descent(5/49): loss=32.176442939185925, w0=69.87432077717496, w1=12.85080297162219\n",
      "Gradient Descent(6/49): loss=21.43048769415776, w0=71.24216126714705, w1=13.10236675696893\n",
      "Gradient Descent(7/49): loss=17.561943805947603, w0=72.06286556113031, w1=13.253305028176976\n",
      "Gradient Descent(8/49): loss=16.169268006191952, w0=72.55528813752026, w1=13.343867990901805\n",
      "Gradient Descent(9/49): loss=15.667904718279914, w0=72.85074168335424, w1=13.398205768536702\n",
      "Gradient Descent(10/49): loss=15.487413934631581, w0=73.02801381085462, w1=13.43080843511764\n",
      "Gradient Descent(11/49): loss=15.422437252518185, w0=73.13437708735485, w1=13.450370035066204\n",
      "Gradient Descent(12/49): loss=15.39904564695736, w0=73.19819505325499, w1=13.462106995035342\n",
      "Gradient Descent(13/49): loss=15.390624668955466, w0=73.23648583279507, w1=13.469149171016824\n",
      "Gradient Descent(14/49): loss=15.387593116874783, w0=73.25946030051912, w1=13.473374476605713\n",
      "Gradient Descent(15/49): loss=15.386501758125739, w0=73.27324498115355, w1=13.475909659959047\n",
      "Gradient Descent(16/49): loss=15.386108868976082, w0=73.28151578953421, w1=13.477430769971047\n",
      "Gradient Descent(17/49): loss=15.385967428882205, w0=73.2864782745626, w1=13.478343435978248\n",
      "Gradient Descent(18/49): loss=15.38591651044841, w0=73.28945576557963, w1=13.478891035582569\n",
      "Gradient Descent(19/49): loss=15.385898179812243, w0=73.29124226018986, w1=13.47921959534516\n",
      "Gradient Descent(20/49): loss=15.385891580783227, w0=73.292314156956, w1=13.479416731202715\n",
      "Gradient Descent(21/49): loss=15.385889205132777, w0=73.29295729501567, w1=13.479535012717248\n",
      "Gradient Descent(22/49): loss=15.385888349898613, w0=73.29334317785148, w1=13.479605981625967\n",
      "Gradient Descent(23/49): loss=15.385888042014319, w0=73.29357470755296, w1=13.4796485629712\n",
      "Gradient Descent(24/49): loss=15.385887931175969, w0=73.29371362537385, w1=13.479674111778339\n",
      "Gradient Descent(25/49): loss=15.385887891274166, w0=73.29379697606639, w1=13.479689441062623\n",
      "Gradient Descent(26/49): loss=15.385887876909514, w0=73.29384698648191, w1=13.479698638633193\n",
      "Gradient Descent(27/49): loss=15.385887871738241, w0=73.29387699273123, w1=13.479704157175535\n",
      "Gradient Descent(28/49): loss=15.385887869876582, w0=73.29389499648082, w1=13.47970746830094\n",
      "Gradient Descent(29/49): loss=15.385887869206385, w0=73.29390579873056, w1=13.479709454976184\n",
      "Gradient Descent(30/49): loss=15.385887868965115, w0=73.29391228008042, w1=13.47971064698133\n",
      "Gradient Descent(31/49): loss=15.385887868878257, w0=73.29391616889033, w1=13.479711362184418\n",
      "Gradient Descent(32/49): loss=15.385887868846988, w0=73.29391850217627, w1=13.47971179130627\n",
      "Gradient Descent(33/49): loss=15.38588786883573, w0=73.29391990214783, w1=13.479712048779382\n",
      "Gradient Descent(34/49): loss=15.385887868831679, w0=73.29392074213078, w1=13.479712203263249\n",
      "Gradient Descent(35/49): loss=15.38588786883022, w0=73.29392124612055, w1=13.479712295953568\n",
      "Gradient Descent(36/49): loss=15.385887868829697, w0=73.2939215485144, w1=13.47971235156776\n",
      "Gradient Descent(37/49): loss=15.385887868829508, w0=73.29392172995071, w1=13.479712384936276\n",
      "Gradient Descent(38/49): loss=15.385887868829439, w0=73.29392183881251, w1=13.479712404957384\n",
      "Gradient Descent(39/49): loss=15.385887868829412, w0=73.29392190412958, w1=13.47971241697005\n",
      "Gradient Descent(40/49): loss=15.385887868829403, w0=73.29392194331982, w1=13.47971242417765\n",
      "Gradient Descent(41/49): loss=15.3858878688294, w0=73.29392196683396, w1=13.479712428502209\n",
      "Gradient Descent(42/49): loss=15.3858878688294, w0=73.29392198094246, w1=13.479712431096944\n",
      "Gradient Descent(43/49): loss=15.385887868829403, w0=73.29392198940755, w1=13.479712432653786\n",
      "Gradient Descent(44/49): loss=15.385887868829398, w0=73.29392199448661, w1=13.47971243358789\n",
      "Gradient Descent(45/49): loss=15.3858878688294, w0=73.29392199753404, w1=13.479712434148354\n",
      "Gradient Descent(46/49): loss=15.3858878688294, w0=73.2939219993625, w1=13.479712434484632\n",
      "Gradient Descent(47/49): loss=15.3858878688294, w0=73.29392200045957, w1=13.479712434686398\n",
      "Gradient Descent(48/49): loss=15.3858878688294, w0=73.29392200111782, w1=13.479712434807459\n",
      "Gradient Descent(49/49): loss=15.3858878688294, w0=73.29392200151277, w1=13.479712434880094\n",
      "Gradient Descent: execution time=0.064 seconds\n"
     ]
    }
   ],
   "source": [
    "from plots import gradient_descent_visualization\n",
    "\n",
    "# Define the parameters of the algorithm.\n",
    "max_iters = 50\n",
    "gamma = 0.4\n",
    "\n",
    "# Initialization\n",
    "w_initial = np.array([0, 0])\n",
    "\n",
    "# Start gradient descent.\n",
    "start_time = datetime.datetime.now()\n",
    "gradient_losses, gradient_ws = gradient_descent(y, tx, w_initial, max_iters, gamma)\n",
    "end_time = datetime.datetime.now()\n",
    "\n",
    "# Print result\n",
    "exection_time = (end_time - start_time).total_seconds()\n",
    "print(\"Gradient Descent: execution time={t:.3f} seconds\".format(t=exection_time))"
   ]
  },
  {
   "cell_type": "code",
   "execution_count": 8,
   "metadata": {
    "scrolled": false
   },
   "outputs": [
    {
     "data": {
      "application/vnd.jupyter.widget-view+json": {
       "model_id": "169250e785b642b7997c70a9c63a1bc9"
      }
     },
     "metadata": {},
     "output_type": "display_data"
    },
    {
     "data": {
      "text/plain": [
       "<function __main__.plot_figure>"
      ]
     },
     "execution_count": 8,
     "metadata": {},
     "output_type": "execute_result"
    },
    {
     "data": {
      "image/png": "[encoded data removed]",
      "text/plain": [
       "<matplotlib.figure.Figure at 0x108b22ba8>"
      ]
     },
     "metadata": {},
     "output_type": "display_data"
    }
   ],
   "source": [
    "# Time Visualization\n",
    "from ipywidgets import IntSlider, interact\n",
    "def plot_figure(n_iter):\n",
    "    fig = gradient_descent_visualization(\n",
    "        y, tx, compute_loss, gradient_losses, gradient_ws, mean_x, std_x, height, weight, n_iter)\n",
    "    fig.set_size_inches(10.0, 6.0)\n",
    "\n",
    "interact(plot_figure, n_iter=IntSlider(min=1, max=len(gradient_ws)))"
   ]
  },
  {
   "cell_type": "markdown",
   "metadata": {
    "collapsed": true
   },
   "source": [
    "# Stochastic gradient descent"
   ]
  },
  {
   "cell_type": "code",
   "execution_count": 9,
   "metadata": {
    "collapsed": true
   },
   "outputs": [],
   "source": [
    "def compute_stoch_gradient(y, tx, w):\n",
    "    \"\"\"Compute a stochastic gradient from just few examples n and their corresponding y_n labels.\"\"\"\n",
    "    err = y - tx.dot(w)\n",
    "    grad = -tx.T.dot(err) / len(err)\n",
    "    return grad, err\n",
    "\n",
    "def stochastic_gradient_descent(\n",
    "        y, tx, initial_w, batch_size, max_iters, gamma):\n",
    "    \"\"\"Stochastic gradient descent.\"\"\"\n",
    "    # Define parameters to store w and loss\n",
    "    ws = [initial_w]\n",
    "    losses = []\n",
    "    w = initial_w\n",
    "    \n",
    "    for n_iter in range(max_iters):\n",
    "        for y_batch, tx_batch in batch_iter(y, tx, batch_size=batch_size, num_batches=1):\n",
    "            # compute a stochastic gradient and loss\n",
    "            grad, _ = compute_stoch_gradient(y_batch, tx_batch, w)\n",
    "            # update w through the stochastic gradient update\n",
    "            w = w - gamma * grad\n",
    "            # calculate loss\n",
    "            loss = compute_loss(y, tx, w)\n",
    "            # store w and loss\n",
    "            ws.append(w)\n",
    "            losses.append(loss)\n",
    "\n",
    "        print(\"SGD({bi}/{ti}): loss={l}, w0={w0}, w1={w1}\".format(\n",
    "              bi=n_iter, ti=max_iters - 1, l=loss, w0=w[0], w1=w[1]))\n",
    "    return losses, ws"
   ]
  },
  {
   "cell_type": "code",
   "execution_count": 10,
   "metadata": {
    "scrolled": false
   },
   "outputs": [
    {
     "name": "stdout",
     "output_type": "stream",
     "text": [
      "SGD(0/49): loss=2619.6485087662622, w0=38.89931685812357, w1=76.92682725343019\n",
      "SGD(1/49): loss=338.1779898537637, w0=90.22866295933372, w1=-5.46227142841434\n",
      "SGD(2/49): loss=52.69627533820977, w0=75.27026794700978, w1=5.070501315935143\n",
      "SGD(3/49): loss=28.57980584684605, w0=68.89700212807281, w1=10.823600318121157\n",
      "SGD(4/49): loss=28.829126514856423, w0=68.81556661005921, w1=10.866130549035072\n",
      "SGD(5/49): loss=43.24201099818939, w0=72.73153664687867, w1=6.036865602563521\n",
      "SGD(6/49): loss=36.75555993934932, w0=71.31410545142181, w1=7.2491690745203945\n",
      "SGD(7/49): loss=40.42801751781641, w0=72.96810544511564, w1=6.410193153654179\n",
      "SGD(8/49): loss=52.16315040180627, w0=69.8352357515299, w1=5.631654427683345\n",
      "SGD(9/49): loss=52.110231963964544, w0=69.88468800636016, w1=5.616773305596863\n",
      "SGD(10/49): loss=47.24043738583509, w0=67.47760937054854, w1=8.01348828974894\n",
      "SGD(11/49): loss=53.382960287744645, w0=70.77235200002826, w1=5.134903895396525\n",
      "SGD(12/49): loss=51.31528359335093, w0=69.95135553748182, w1=5.689587860977519\n",
      "SGD(13/49): loss=42.66310402913115, w0=76.42802578726112, w1=6.791526897455366\n",
      "SGD(14/49): loss=37.4836885954997, w0=79.7918431997265, w1=12.075211967618454\n",
      "SGD(15/49): loss=23.25346808000133, w0=77.21781836454875, w1=14.06126016230476\n",
      "SGD(16/49): loss=17.530861532354436, w0=75.33921390257132, w1=13.153019354349539\n",
      "SGD(17/49): loss=19.285894376689953, w0=73.81269793406771, w1=10.735466719289102\n",
      "SGD(18/49): loss=18.723525905488774, w0=75.43558353071548, w1=12.03452664409938\n",
      "SGD(19/49): loss=20.481100786220953, w0=76.34031492375496, w1=12.525817261657473\n",
      "SGD(20/49): loss=20.637291989300323, w0=74.18960543703281, w1=10.365140325478965\n",
      "SGD(21/49): loss=18.973997820525113, w0=74.99529611701335, w1=11.410522732590577\n",
      "SGD(22/49): loss=19.046793653535303, w0=74.62771937496213, w1=11.125398068220726\n",
      "SGD(23/49): loss=22.63245767247864, w0=73.25938519914939, w1=9.672883463713866\n",
      "SGD(24/49): loss=21.313733009080618, w0=75.4805692047736, w1=10.81996351985348\n",
      "SGD(25/49): loss=15.886825860066287, w0=72.53991441249099, w1=14.138004571717076\n",
      "SGD(26/49): loss=16.870712221232992, w0=74.62208846690415, w1=14.577720880580719\n",
      "SGD(27/49): loss=18.156370720060625, w0=75.30752019445103, w1=14.698887575091575\n",
      "SGD(28/49): loss=17.393246069585235, w0=74.8166785338718, w1=14.781990802494942\n",
      "SGD(29/49): loss=21.0773749172434, w0=71.52714523386648, w1=16.353990422247755\n",
      "SGD(30/49): loss=16.013114963082604, w0=74.13786640682125, w1=14.216062915572085\n",
      "SGD(31/49): loss=16.736914888143467, w0=74.93742242827359, w1=13.44872231055544\n",
      "SGD(32/49): loss=41.25458374329199, w0=77.64100484048714, w1=7.749070015053023\n",
      "SGD(33/49): loss=50.487126339563396, w0=75.86559530488644, w1=5.5054429784663945\n",
      "SGD(34/49): loss=32.141393895271506, w0=71.63481524154106, w1=7.933688921701835\n",
      "SGD(35/49): loss=28.696757243870316, w0=78.4460774832273, w1=13.202164874334594\n",
      "SGD(36/49): loss=18.25937029225162, w0=75.28638532890221, w1=12.146650269066779\n",
      "SGD(37/49): loss=18.457139102349988, w0=70.85781832104963, w1=13.023750460490351\n",
      "SGD(38/49): loss=19.60175679310071, w0=70.44018158583417, w1=12.94314605038793\n",
      "SGD(39/49): loss=18.754314206699117, w0=74.89781550831582, w1=15.520393276393413\n",
      "SGD(40/49): loss=27.54441327706144, w0=71.03306320538371, w1=9.097296626584829\n",
      "SGD(41/49): loss=30.504994577449136, w0=69.98927931706005, w1=9.08453892972021\n",
      "SGD(42/49): loss=28.514787639497104, w0=68.94200064139216, w1=10.77442501744816\n",
      "SGD(43/49): loss=28.69463343498621, w0=68.8799501197902, w1=10.80869327473462\n",
      "SGD(44/49): loss=36.030500585403814, w0=66.99404380066117, w1=12.21450095854751\n",
      "SGD(45/49): loss=34.96540260605114, w0=67.19549566241452, w1=12.076777777276684\n",
      "SGD(46/49): loss=44.60526818383238, w0=71.94707129593228, w1=5.9547703219035615\n",
      "SGD(47/49): loss=41.953777628090826, w0=73.21406451070787, w1=6.190720577428048\n",
      "SGD(48/49): loss=27.251284499454407, w0=69.70354098203096, w1=10.187303379002724\n",
      "SGD(49/49): loss=21.53666343776634, w0=70.88144102682854, w1=10.933836027579977\n",
      "SGD: execution time=0.094 seconds\n"
     ]
    }
   ],
   "source": [
    "# Define the parameters of the algorithm.\n",
    "max_iters = 50\n",
    "gamma = 0.4\n",
    "batch_size = 1\n",
    "\n",
    "# Initialization\n",
    "w_initial = np.array([0, 0])\n",
    "\n",
    "# Start SGD.\n",
    "start_time = datetime.datetime.now()\n",
    "sgd_losses, sgd_ws = stochastic_gradient_descent(\n",
    "    y, tx, w_initial, batch_size, max_iters, gamma)\n",
    "end_time = datetime.datetime.now()\n",
    "\n",
    "# Print result\n",
    "exection_time = (end_time - start_time).total_seconds()\n",
    "print(\"SGD: execution time={t:.3f} seconds\".format(t=exection_time))"
   ]
  },
  {
   "cell_type": "code",
   "execution_count": 11,
   "metadata": {},
   "outputs": [
    {
     "data": {
      "application/vnd.jupyter.widget-view+json": {
       "model_id": "045575d0cf344156afb8eeb1b4169ce6"
      }
     },
     "metadata": {},
     "output_type": "display_data"
    },
    {
     "data": {
      "text/plain": [
       "<function __main__.plot_figure>"
      ]
     },
     "execution_count": 11,
     "metadata": {},
     "output_type": "execute_result"
    },
    {
     "data": {
      "image/png": "[encoded data removed]",
      "text/plain": [
       "<matplotlib.figure.Figure at 0x10c42e898>"
      ]
     },
     "metadata": {},
     "output_type": "display_data"
    }
   ],
   "source": [
    "# Time Visualization\n",
    "\n",
    "from ipywidgets import IntSlider, interact\n",
    "def plot_figure(n_iter):\n",
    "    fig = gradient_descent_visualization(\n",
    "        y, tx, compute_loss, sgd_losses, sgd_ws, mean_x, std_x, height, weight, n_iter)\n",
    "    fig.set_size_inches(10.0, 6.0)\n",
    "\n",
    "interact(plot_figure, n_iter=IntSlider(min=1, max=len(gradient_ws)))"
   ]
  },
  {
   "cell_type": "code",
   "execution_count": null,
   "metadata": {
    "collapsed": true
   },
   "outputs": [],
   "source": []
  }
 ],
 "metadata": {
  "anaconda-cloud": {},
  "kernelspec": {
   "display_name": "Python 3",
   "language": "python",
   "name": "python3"
  },
  "language_info": {
   "codemirror_mode": {
    "name": "ipython",
    "version": 3
   },
   "file_extension": ".py",
   "mimetype": "text/x-python",
   "name": "python",
   "nbconvert_exporter": "python",
   "pygments_lexer": "ipython3",
   "version": "3.6.1"
  },
  "widgets": {
   "state": {
    "d2b2c3aea192430e81437f33ba0b0e69": {
     "views": [
      {
       "cell_index": 22
      }
     ]
    },
    "e4a6a7a70ccd42ddb112989c04f2ed3f": {
     "views": [
      {
       "cell_index": 18
      }
     ]
    }
   },
   "version": "1.2.0"
  }
 },
 "nbformat": 4,
 "nbformat_minor": 1
}
