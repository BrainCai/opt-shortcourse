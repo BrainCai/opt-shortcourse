{
 "cells": [
  {
   "cell_type": "code",
   "execution_count": 1,
   "metadata": {
    "collapsed": false
   },
   "outputs": [],
   "source": [
    "# Useful starting lines\n",
    "%matplotlib inline\n",
    "\n",
    "import random\n",
    "from datetime import datetime\n",
    "\n",
    "import numpy as np\n",
    "import matplotlib.pyplot as plt\n",
    "%load_ext autoreload\n",
    "%autoreload 2"
   ]
  },
  {
   "cell_type": "markdown",
   "metadata": {},
   "source": [
    "# Support Vector Machines\n",
    "## Classification Using SVM\n",
    "Load dataset. We will re-use the CERN dataset from project 1, available from https://inclass.kaggle.com/c/epfml-project-1/data"
   ]
  },
  {
   "cell_type": "code",
   "execution_count": 2,
   "metadata": {
    "collapsed": false
   },
   "outputs": [
    {
     "name": "stdout",
     "output_type": "stream",
     "text": [
      "(5000,) (5000, 30)\n"
     ]
    }
   ],
   "source": [
    "from helpers import load_csv_data\n",
    "\n",
    "seed = 666\n",
    "DATA_TRAIN_PATH = 'data/train.csv'\n",
    "\n",
    "np.random.seed(seed)\n",
    "y, X, ids = load_csv_data(DATA_TRAIN_PATH, sub_sample=True)\n",
    "print(y.shape, X.shape)"
   ]
  },
  {
   "cell_type": "markdown",
   "metadata": {},
   "source": [
    "## prepare cost function and error function"
   ]
  },
  {
   "cell_type": "code",
   "execution_count": 3,
   "metadata": {
    "collapsed": true
   },
   "outputs": [],
   "source": [
    "def support_vector(y, X, w):\n",
    "    return 1 - y * (X @ w)\n",
    "\n",
    "def clipped_support_vector(y, X, w):\n",
    "    return np.clip(support_vector(y, X, w), 0, np.inf)"
   ]
  },
  {
   "cell_type": "code",
   "execution_count": 4,
   "metadata": {
    "collapsed": false
   },
   "outputs": [],
   "source": [
    "def calculate_primal_loss(y, X, w, lambda_):\n",
    "    \"\"\"compute the full cost (the primal objective), that is loss plus regularizer.\n",
    "    X: the full dataset matrix, shape = (num_samples, num_features)\n",
    "    y: the corresponding +1 or -1 labels, shape = (num_samples)\n",
    "    w: shape = (num_features)\n",
    "    \"\"\"\n",
    "    v = clipped_support_vector(y, X, w)\n",
    "    return np.sum(v) + lambda_ / 2 * np.sum(w ** 2)"
   ]
  },
  {
   "cell_type": "code",
   "execution_count": 18,
   "metadata": {
    "collapsed": false
   },
   "outputs": [],
   "source": [
    "def accuracy(y1, y2):\n",
    "    return np.mean(y1 == y2)\n",
    "\n",
    "def prediction(X, w):\n",
    "    return (X @ w > 0) * 2 - 1\n",
    "\n",
    "def calculate_accuracy(y, X, w):\n",
    "    \"\"\"compute the full cost (the primal objective), that is loss plus regularizer.\n",
    "    X: the full dataset matrix, shape = (num_samples, num_features)\n",
    "    y: the corresponding +1 or -1 labels, shape = (num_samples)\n",
    "    w: shape = (num_features)\n",
    "    \"\"\"\n",
    "    predicted_y = prediction(X, w)\n",
    "    return accuracy(predicted_y, y)"
   ]
  },
  {
   "cell_type": "markdown",
   "metadata": {},
   "source": [
    "## Stochastic Gradient Descent for SVM"
   ]
  },
  {
   "cell_type": "markdown",
   "metadata": {},
   "source": [
    "Compute the (stochastic) subgradient for the n-th summand of the SVM optimization objective"
   ]
  },
  {
   "cell_type": "code",
   "execution_count": 6,
   "metadata": {
    "collapsed": false
   },
   "outputs": [],
   "source": [
    "def calculate_stochastic_gradient(y, X, w, lambda_, n):\n",
    "    \"\"\"compute the stochastic gradient of loss plus regularizer.\n",
    "    X: the dataset matrix, shape = (num_samples, num_features)\n",
    "    y: the corresponding +1 or -1 labels, shape = (num_samples)\n",
    "    w: shape = (num_features)\n",
    "    N: num_samples\n",
    "    \"\"\"\n",
    "    # Be careful about the constant N (size) term!\n",
    "    # The complete objective for SVM is a sum, not an average as in earlier SGD examples!\n",
    "    def is_support(y_n, x_n, w):\n",
    "        \"\"\"a datapoint is support if max{} is not 0. \"\"\"\n",
    "        return y_n * x_n @ w < 1\n",
    "    \n",
    "    x_n, y_n = X[n], y[n]\n",
    "    grad = - y_n * x_n.T if is_support(y_n, x_n, w) else np.zeros_like(x_n.T)\n",
    "    grad = np.squeeze(grad) + lambda_ * w\n",
    "    return grad"
   ]
  },
  {
   "cell_type": "markdown",
   "metadata": {},
   "source": [
    "Implement stochastic gradient descent: Pick a data point uniformly at random and update w based on the gradient for the n-th summand of the objective"
   ]
  },
  {
   "cell_type": "code",
   "execution_count": 19,
   "metadata": {
    "collapsed": false
   },
   "outputs": [
    {
     "name": "stdout",
     "output_type": "stream",
     "text": [
      "Current iteration=0, the loss=14334542791.998497\n",
      "Current iteration=100, the loss=3953154456.069556\n",
      "Current iteration=200, the loss=2180147541.075439\n",
      "Current iteration=300, the loss=2711344034.114188\n",
      "Current iteration=400, the loss=9539527074.038664\n",
      "Current iteration=500, the loss=4456815208.6956625\n",
      "Current iteration=600, the loss=13325508595.616325\n",
      "Current iteration=700, the loss=2240276930.0331845\n",
      "Current iteration=800, the loss=1106479326.3990116\n",
      "Current iteration=900, the loss=7153258192.411452\n",
      "accuracy = 0.6614\n",
      "it takes 0:46:38.813805\n"
     ]
    }
   ],
   "source": [
    "def sgd_for_svm_demo(y, X):\n",
    "    \n",
    "    max_iter = 1000\n",
    "    gamma = 0.001\n",
    "    lambda_ = 0.1\n",
    "    \n",
    "    num_samples, num_features = X.shape\n",
    "    sample_indices = range(num_samples)\n",
    "    w = np.random.rand(num_features)\n",
    "    \n",
    "    for cur_iter in range(max_iter):\n",
    "        # n = sample one data point uniformly at random data from x\n",
    "        num_of_points = random.sample(sample_indices, num_samples)\n",
    "        for n in num_of_points: \n",
    "            loss = calculate_primal_loss(y, X, w, lambda_)\n",
    "            grad = calculate_stochastic_gradient(y, X, w, lambda_, n)\n",
    "            w -= grad\n",
    "        \n",
    "        if cur_iter % 100 == 0:\n",
    "            print(\"Current iteration={i}, the loss={l}\".format(i=cur_iter, l=loss))\n",
    "    \n",
    "    print(\"accuracy = {l}\".format(l=calculate_accuracy(y, X, w)))\n",
    "\n",
    "start_time = datetime.now()\n",
    "sgd_for_svm_demo(y, X)\n",
    "end_time = datetime.now()\n",
    "\n",
    "print('it takes {}'.format(end_time - start_time))"
   ]
  },
  {
   "cell_type": "markdown",
   "metadata": {},
   "source": [
    "## Coordinate Descent (Ascent) for SVM"
   ]
  },
  {
   "cell_type": "markdown",
   "metadata": {},
   "source": [
    "Compute the closed-form update for the n-th variable alpha, in the dual optimization problem, given alpha and the current corresponding w"
   ]
  },
  {
   "cell_type": "code",
   "execution_count": 11,
   "metadata": {
    "collapsed": false
   },
   "outputs": [],
   "source": [
    "def calculate_coordinate_update(y, X, lambda_, alpha, w, n):\n",
    "    \"\"\"compute the stochastic gradient of loss plus regularizer.\n",
    "    X: the dataset matrix, shape = (num_samples, num_features)\n",
    "    y: the corresponding +1 or -1 labels, shape = (num_samples)\n",
    "    w: shape = (num_features)\n",
    "    N: num_samples\n",
    "    \"\"\"        \n",
    "    # calculate the update of coordinate at index=n.\n",
    "    x_n, y_n = X[n], y[n]\n",
    "    old_alpha_n = alpha[n]\n",
    "    \n",
    "    g = (y_n * x_n.dot(w) - 1)\n",
    "\n",
    "    if old_alpha_n == 0:\n",
    "        g = min(g, 0)\n",
    "    elif old_alpha_n == 1.0 / lambda_:\n",
    "        g = max(g, 0)\n",
    "    else:\n",
    "        g = g\n",
    "    if g != 0:\n",
    "        alpha[n] = min(\n",
    "            max(old_alpha_n - g / (x_n.T.dot(x_n)), 0.0),\n",
    "            1.0 / lambda_)\n",
    "    \n",
    "        # compute the corresponding update on the primal vector w\n",
    "        w += 1.0 * (alpha[n] - old_alpha_n) * y_n * x_n\n",
    "    return w"
   ]
  },
  {
   "cell_type": "code",
   "execution_count": 12,
   "metadata": {
    "collapsed": false
   },
   "outputs": [],
   "source": [
    "def calculate_dual_loss(y, X, w, alpha, lambda_):\n",
    "    \"\"\"calculate the loss for dual problem.\"\"\"\n",
    "    return np.sum(alpha * support_vector(y, X, w)) + lambda_ / 2 * np.sum(w ** 2)"
   ]
  },
  {
   "cell_type": "code",
   "execution_count": 16,
   "metadata": {
    "collapsed": false
   },
   "outputs": [
    {
     "name": "stdout",
     "output_type": "stream",
     "text": [
      "cur_iter:0, primal:7912.75995, dual:0.00482, gap:7912.75514\n",
      "cur_iter:1000, primal:3370.34738, dual:4.06859, gap:3366.27879\n",
      "cur_iter:2000, primal:4042.18045, dual:8.04565, gap:4034.13480\n",
      "cur_iter:3000, primal:4858.45927, dual:12.00038, gap:4846.45889\n",
      "cur_iter:4000, primal:3335.35133, dual:15.94030, gap:3319.41103\n",
      "cur_iter:5000, primal:3431.59161, dual:19.88587, gap:3411.70575\n",
      "cur_iter:6000, primal:3433.61252, dual:23.82310, gap:3409.78942\n",
      "cur_iter:7000, primal:4168.09126, dual:27.76696, gap:4140.32430\n",
      "cur_iter:8000, primal:3482.56702, dual:31.71424, gap:3450.85278\n",
      "cur_iter:9000, primal:3214.92190, dual:35.66699, gap:3179.25491\n",
      "accuracy = 0.7154\n",
      "it takes 0:06:03.481119\n"
     ]
    }
   ],
   "source": [
    "def coordinate_descent_for_svm_demo(y, X):\n",
    "    max_iter = 10000\n",
    "    gamma = 0.001\n",
    "    lambda_ = 0.1\n",
    "\n",
    "    num_samples, num_features = X.shape\n",
    "    sample_indices = range(num_samples)\n",
    "    w = np.zeros(num_features)\n",
    "    alpha = np.zeros(num_samples)\n",
    "    \n",
    "    for cur_iter in range(max_iter):\n",
    "        # n = uniformly random data point from x\n",
    "        num_of_points = random.sample(sample_indices, num_samples)\n",
    "\n",
    "        for iteration in num_of_points:\n",
    "            n = sample_indices[iteration]\n",
    "            w = calculate_coordinate_update(y, X, lambda_, alpha, w, n)\n",
    "            \n",
    "        if cur_iter % 1000 == 0:\n",
    "            # primal objective\n",
    "            primal_value = calculate_primal_loss(y, X, w, lambda_)\n",
    "            # dual objective\n",
    "            dual_value = calculate_dual_loss(y, X, w, alpha, lambda_)\n",
    "            # primal dual gap\n",
    "            duality_gap = primal_value - dual_value\n",
    "            print('cur_iter:%i, primal:%.5f, dual:%.5f, gap:%.5f'%(\n",
    "                    cur_iter, primal_value, dual_value, duality_gap))\n",
    "    print(\"accuracy = {l}\".format(l=calculate_accuracy(y, X, w)))\n",
    "\n",
    "start_time = datetime.now()\n",
    "coordinate_descent_for_svm_demo(y, X)\n",
    "end_time = datetime.now()\n",
    "\n",
    "print('it takes {}'.format(end_time - start_time))"
   ]
  },
  {
   "cell_type": "code",
   "execution_count": null,
   "metadata": {
    "collapsed": false
   },
   "outputs": [],
   "source": []
  }
 ],
 "metadata": {
  "anaconda-cloud": {},
  "kernelspec": {
   "display_name": "Python [Root]",
   "language": "python",
   "name": "Python [Root]"
  },
  "language_info": {
   "codemirror_mode": {
    "name": "ipython",
    "version": 3
   },
   "file_extension": ".py",
   "mimetype": "text/x-python",
   "name": "python",
   "nbconvert_exporter": "python",
   "pygments_lexer": "ipython3",
   "version": "3.5.2"
  }
 },
 "nbformat": 4,
 "nbformat_minor": 0
}
