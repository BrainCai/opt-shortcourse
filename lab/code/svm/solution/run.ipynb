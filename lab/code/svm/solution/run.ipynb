{
 "cells": [
  {
   "cell_type": "code",
   "execution_count": 1,
   "metadata": {},
   "outputs": [],
   "source": [
    "# Useful starting lines\n",
    "%matplotlib inline\n",
    "\n",
    "import random\n",
    "from datetime import datetime\n",
    "\n",
    "import numpy as np\n",
    "import matplotlib.pyplot as plt\n",
    "%load_ext autoreload\n",
    "%autoreload 2"
   ]
  },
  {
   "cell_type": "markdown",
   "metadata": {},
   "source": [
    "# Support Vector Machines\n",
    "## Classification Using SVM\n",
    "Load dataset. We will re-use the CERN dataset from project 1, available from https://inclass.kaggle.com/c/epfml-project-1/data"
   ]
  },
  {
   "cell_type": "code",
   "execution_count": 2,
   "metadata": {},
   "outputs": [
    {
     "name": "stdout",
     "output_type": "stream",
     "text": [
      "(5000,) (5000, 30)\n"
     ]
    }
   ],
   "source": [
    "from helpers import load_csv_data\n",
    "\n",
    "seed = 666\n",
    "DATA_TRAIN_PATH = 'data/train.csv'\n",
    "\n",
    "np.random.seed(seed)\n",
    "y, X, ids = load_csv_data(DATA_TRAIN_PATH, sub_sample=True)\n",
    "print(y.shape, X.shape)"
   ]
  },
  {
   "cell_type": "markdown",
   "metadata": {},
   "source": [
    "## prepare cost function and error function"
   ]
  },
  {
   "cell_type": "code",
   "execution_count": 3,
   "metadata": {
    "collapsed": true
   },
   "outputs": [],
   "source": [
    "def support_vector(y, X, w):\n",
    "    return 1 - y * (X @ w)\n",
    "\n",
    "def clipped_support_vector(y, X, w):\n",
    "    return np.clip(support_vector(y, X, w), 0, np.inf)"
   ]
  },
  {
   "cell_type": "code",
   "execution_count": 4,
   "metadata": {
    "collapsed": true
   },
   "outputs": [],
   "source": [
    "def calculate_primal_loss(y, X, w, lambda_):\n",
    "    \"\"\"compute the full cost (the primal objective), that is loss plus regularizer.\n",
    "    X: the full dataset matrix, shape = (num_samples, num_features)\n",
    "    y: the corresponding +1 or -1 labels, shape = (num_samples)\n",
    "    w: shape = (num_features)\n",
    "    \"\"\"\n",
    "    v = clipped_support_vector(y, X, w)\n",
    "    return np.sum(v) + lambda_ / 2 * np.sum(w ** 2)"
   ]
  },
  {
   "cell_type": "code",
   "execution_count": 5,
   "metadata": {
    "collapsed": true
   },
   "outputs": [],
   "source": [
    "def accuracy(y1, y2):\n",
    "    return np.mean(y1 == y2)\n",
    "\n",
    "def prediction(X, w):\n",
    "    return (X @ w > 0) * 2 - 1\n",
    "\n",
    "def calculate_accuracy(y, X, w):\n",
    "    \"\"\"compute the full cost (the primal objective), that is loss plus regularizer.\n",
    "    X: the full dataset matrix, shape = (num_samples, num_features)\n",
    "    y: the corresponding +1 or -1 labels, shape = (num_samples)\n",
    "    w: shape = (num_features)\n",
    "    \"\"\"\n",
    "    predicted_y = prediction(X, w)\n",
    "    return accuracy(predicted_y, y)"
   ]
  },
  {
   "cell_type": "markdown",
   "metadata": {},
   "source": [
    "## Stochastic Gradient Descent for SVM"
   ]
  },
  {
   "cell_type": "markdown",
   "metadata": {},
   "source": [
    "Compute the (stochastic) subgradient for the n-th summand of the SVM optimization objective"
   ]
  },
  {
   "cell_type": "code",
   "execution_count": 6,
   "metadata": {
    "collapsed": true
   },
   "outputs": [],
   "source": [
    "def calculate_stochastic_gradient(y, X, w, lambda_, n):\n",
    "    \"\"\"compute the stochastic gradient of loss plus regularizer.\n",
    "    X: the dataset matrix, shape = (num_samples, num_features)\n",
    "    y: the corresponding +1 or -1 labels, shape = (num_samples)\n",
    "    w: shape = (num_features)\n",
    "    N: num_samples\n",
    "    \"\"\"\n",
    "    # Be careful about the constant N (size) term!\n",
    "    # The complete objective for SVM is a sum, not an average as in earlier SGD examples!\n",
    "    def is_support(y_n, x_n, w):\n",
    "        \"\"\"a datapoint is support if max{} is not 0. \"\"\"\n",
    "        return y_n * x_n @ w < 1\n",
    "    \n",
    "    x_n, y_n = X[n], y[n]\n",
    "    grad = - y_n * x_n.T if is_support(y_n, x_n, w) else np.zeros_like(x_n.T)\n",
    "    grad = np.squeeze(grad) + lambda_ / X.shape[0] * w\n",
    "    return grad"
   ]
  },
  {
   "cell_type": "markdown",
   "metadata": {},
   "source": [
    "Implement stochastic gradient descent: Pick a data point uniformly at random and update w based on the gradient for the n-th summand of the objective"
   ]
  },
  {
   "cell_type": "code",
   "execution_count": 7,
   "metadata": {},
   "outputs": [
    {
     "name": "stdout",
     "output_type": "stream",
     "text": [
      "Current iteration=0, the loss=662340.5535586537\n",
      "Current iteration=10, the loss=395162.8087122275\n",
      "Current iteration=20, the loss=1793593.3868853478\n",
      "Current iteration=30, the loss=488859.97792401194\n",
      "Current iteration=40, the loss=376929.77122837794\n",
      "Current iteration=50, the loss=427103.47353419947\n",
      "Current iteration=60, the loss=413552.6945558849\n",
      "Current iteration=70, the loss=1021680.4641977681\n",
      "Current iteration=80, the loss=1767759.027591515\n",
      "Current iteration=90, the loss=564897.6092979783\n",
      "accuracy = 0.708\n",
      "it takes 0:04:05.606112\n"
     ]
    }
   ],
   "source": [
    "def sgd_for_svm_demo(y, X):\n",
    "    \n",
    "    max_iter = 100\n",
    "    gamma = 0.0001\n",
    "    lambda_ = 0.1\n",
    "    \n",
    "    num_samples, num_features = X.shape\n",
    "    sample_indices = range(num_samples)\n",
    "    w = np.random.rand(num_features)\n",
    "    \n",
    "    for cur_iter in range(max_iter):\n",
    "        # n = sample one data point uniformly at random data from x\n",
    "        num_of_points = random.sample(sample_indices, num_samples)\n",
    "        for n in num_of_points: \n",
    "            loss = calculate_primal_loss(y, X, w, lambda_)\n",
    "            grad = calculate_stochastic_gradient(y, X, w, lambda_, n)\n",
    "            w -= gamma * grad\n",
    "        \n",
    "        if cur_iter % 10 == 0:\n",
    "            print(\"Current iteration={i}, the loss={l}\".format(i=cur_iter, l=loss))\n",
    "    \n",
    "    print(\"accuracy = {l}\".format(l=calculate_accuracy(y, X, w)))\n",
    "\n",
    "start_time = datetime.now()\n",
    "sgd_for_svm_demo(y, X)\n",
    "end_time = datetime.now()\n",
    "\n",
    "print('it takes {}'.format(end_time - start_time))"
   ]
  },
  {
   "cell_type": "markdown",
   "metadata": {},
   "source": [
    "## Coordinate Descent (Ascent) for SVM"
   ]
  },
  {
   "cell_type": "markdown",
   "metadata": {},
   "source": [
    "Compute the closed-form update for the n-th variable alpha, in the dual optimization problem, given alpha and the current corresponding w"
   ]
  },
  {
   "cell_type": "code",
   "execution_count": 8,
   "metadata": {
    "collapsed": true
   },
   "outputs": [],
   "source": [
    "def calculate_coordinate_update(y, X, lambda_, alpha, w, n):\n",
    "    \"\"\"compute the stochastic gradient of loss plus regularizer.\n",
    "    X: the dataset matrix, shape = (num_samples, num_features)\n",
    "    y: the corresponding +1 or -1 labels, shape = (num_samples)\n",
    "    w: shape = (num_features)\n",
    "    N: num_samples\n",
    "    \"\"\"        \n",
    "    # calculate the update of coordinate at index=n.\n",
    "    x_n, y_n = X[n], y[n]\n",
    "    old_alpha_n = alpha[n]\n",
    "\n",
    "    g = 1.0 * (y_n * x_n.dot(w) - 1)\n",
    "\n",
    "    if old_alpha_n == 0:\n",
    "        g = min(g, 0)\n",
    "    elif old_alpha_n == 1.0 / lambda_:\n",
    "        g = max(g, 0)\n",
    "    else:\n",
    "        g = g\n",
    "    if g != 0:\n",
    "        alpha[n] = min(\n",
    "            max(old_alpha_n - g / (x_n.T.dot(x_n)), 0.0),\n",
    "            1.0 / lambda_)\n",
    "    \n",
    "        # compute the corresponding update on the primal vector w\n",
    "        w += 1.0 * (alpha[n] - old_alpha_n) * y_n * x_n\n",
    "    return w, alpha"
   ]
  },
  {
   "cell_type": "code",
   "execution_count": 10,
   "metadata": {
    "collapsed": true
   },
   "outputs": [],
   "source": [
    "def calculate_dual_loss(y, X, w, alpha, lambda_):\n",
    "    \"\"\"calculate the loss for dual problem.\"\"\"\n",
    "    return lambda_ * np.sum(alpha) - lambda_ / 2 * np.sum(w ** 2)"
   ]
  },
  {
   "cell_type": "code",
   "execution_count": 11,
   "metadata": {
    "scrolled": true
   },
   "outputs": [
    {
     "name": "stdout",
     "output_type": "stream",
     "text": [
      "cur_iter:0, primal:3807.29140, dual:0.00049, gap:3807.29091\n",
      "cur_iter:1000, primal:4535.83538, dual:0.41155, gap:4535.42384\n",
      "cur_iter:2000, primal:6622.38311, dual:0.81297, gap:6621.57013\n",
      "cur_iter:3000, primal:3802.04106, dual:1.21119, gap:3800.82988\n",
      "cur_iter:4000, primal:3132.62319, dual:1.60773, gap:3131.01546\n",
      "cur_iter:5000, primal:3654.16174, dual:2.00418, gap:3652.15756\n",
      "cur_iter:6000, primal:4517.17608, dual:2.40025, gap:4514.77583\n",
      "cur_iter:7000, primal:3408.09117, dual:2.79624, gap:3405.29493\n",
      "cur_iter:8000, primal:3911.54770, dual:3.19182, gap:3908.35588\n",
      "cur_iter:9000, primal:3830.62083, dual:3.58723, gap:3827.03361\n",
      "accuracy = 0.6012\n",
      "it takes 0:30:57.292089\n"
     ]
    }
   ],
   "source": [
    "def coordinate_descent_for_svm_demo(y, X):\n",
    "    max_iter = 10000\n",
    "    lambda_ = 0.1\n",
    "    \n",
    "    num_samples, num_features = X.shape\n",
    "    sample_indices = range(num_samples)\n",
    "    w = np.zeros(num_features)\n",
    "    alpha = np.zeros(num_samples)\n",
    "    \n",
    "    for cur_iter in range(max_iter):\n",
    "        # n = uniformly random data point from x\n",
    "        num_of_points = random.sample(sample_indices, num_samples)\n",
    "\n",
    "        for iteration in num_of_points:\n",
    "            n = sample_indices[iteration]\n",
    "            w, alpha = calculate_coordinate_update(y, X, lambda_, alpha, w, n)\n",
    "\n",
    "        if cur_iter % 1000 == 0:\n",
    "            # primal objective\n",
    "            primal_value = calculate_primal_loss(y, X, w, lambda_)\n",
    "            # dual objective\n",
    "            dual_value = calculate_dual_loss(y, X, w, alpha, lambda_)\n",
    "            # primal dual gap\n",
    "            duality_gap = primal_value - dual_value\n",
    "            print('cur_iter:%i, primal:%.5f, dual:%.5f, gap:%.5f'%(\n",
    "                    cur_iter, primal_value, dual_value, duality_gap))\n",
    "\n",
    "    print(\"accuracy = {l}\".format(l=calculate_accuracy(y, X, w)))\n",
    "\n",
    "start_time = datetime.now()\n",
    "coordinate_descent_for_svm_demo(y, X)\n",
    "end_time = datetime.now()\n",
    "\n",
    "print('it takes {}'.format(end_time - start_time))"
   ]
  },
  {
   "cell_type": "code",
   "execution_count": null,
   "metadata": {
    "collapsed": true
   },
   "outputs": [],
   "source": []
  }
 ],
 "metadata": {
  "anaconda-cloud": {},
  "kernelspec": {
   "display_name": "Python 3",
   "language": "python",
   "name": "python3"
  },
  "language_info": {
   "codemirror_mode": {
    "name": "ipython",
    "version": 3
   },
   "file_extension": ".py",
   "mimetype": "text/x-python",
   "name": "python",
   "nbconvert_exporter": "python",
   "pygments_lexer": "ipython3",
   "version": "3.6.1"
  }
 },
 "nbformat": 4,
 "nbformat_minor": 1
}
