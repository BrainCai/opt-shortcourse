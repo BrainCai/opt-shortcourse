{
 "cells": [
  {
   "cell_type": "code",
   "execution_count": null,
   "metadata": {},
   "outputs": [],
   "source": [
    "# Useful starting lines\n",
    "%matplotlib inline\n",
    "\n",
    "import random\n",
    "from datetime import datetime\n",
    "\n",
    "import numpy as np\n",
    "import matplotlib.pyplot as plt\n",
    "%load_ext autoreload\n",
    "%autoreload 2"
   ]
  },
  {
   "cell_type": "markdown",
   "metadata": {},
   "source": [
    "# Support Vector Machines\n",
    "## Classification Using SVM\n",
    "Load dataset. We will re-use the CERN dataset from project 1, available from https://inclass.kaggle.com/c/epfml-project-1/data"
   ]
  },
  {
   "cell_type": "code",
   "execution_count": null,
   "metadata": {},
   "outputs": [],
   "source": [
    "from helpers import load_csv_data\n",
    "\n",
    "seed = 666\n",
    "DATA_TRAIN_PATH = 'data/train.csv'\n",
    "\n",
    "np.random.seed(seed)\n",
    "y, X, ids = load_csv_data(DATA_TRAIN_PATH, sub_sample=True)\n",
    "print(y.shape, X.shape)"
   ]
  },
  {
   "cell_type": "markdown",
   "metadata": {},
   "source": [
    "## prepare cost function and error function"
   ]
  },
  {
   "cell_type": "code",
   "execution_count": null,
   "metadata": {},
   "outputs": [],
   "source": [
    "def calculate_loss(y, X, w, lambda_):\n",
    "    \"\"\"compute the full cost (the primal objective), that is loss plus regularizer.\n",
    "    X: the full dataset matrix, shape = (num_samples, num_features)\n",
    "    y: the corresponding +1 or -1 labels, shape = (num_samples)\n",
    "    w: shape = (num_features)\n",
    "    \"\"\"\n",
    "    # ***************************************************\n",
    "    # INSERT YOUR CODE HERE\n",
    "    # TODO\n",
    "    # ***************************************************\n",
    "    raise NotImplementedError"
   ]
  },
  {
   "cell_type": "code",
   "execution_count": null,
   "metadata": {},
   "outputs": [],
   "source": [
    "def calculate_error(y, X, w):\n",
    "    \"\"\"compute the full cost (the primal objective), that is loss plus regularizer.\n",
    "    X: the full dataset matrix, shape = (num_samples, num_features)\n",
    "    y: the corresponding +1 or -1 labels, shape = (num_samples)\n",
    "    w: shape = (num_features)\n",
    "    \"\"\"\n",
    "    # ***************************************************\n",
    "    # INSERT YOUR CODE HERE\n",
    "    # TODO\n",
    "    # ***************************************************\n",
    "    raise NotImplementedError"
   ]
  },
  {
   "cell_type": "markdown",
   "metadata": {},
   "source": [
    "## Stochastic Gradient Descent for SVM"
   ]
  },
  {
   "cell_type": "markdown",
   "metadata": {},
   "source": [
    "Compute the (stochastic) subgradient for the n-th summand of the SVM optimization objective"
   ]
  },
  {
   "cell_type": "code",
   "execution_count": null,
   "metadata": {},
   "outputs": [],
   "source": [
    "def calculate_stochastic_gradient(y, X, w, lambda_, n):\n",
    "    \"\"\"compute the stochastic gradient of loss plus regularizer.\n",
    "    X: the dataset matrix, shape = (num_samples, num_features)\n",
    "    y: the corresponding +1 or -1 labels, shape = (num_samples)\n",
    "    w: shape = (num_features)\n",
    "    N: num_samples\n",
    "    \"\"\"\n",
    "    # ***************************************************\n",
    "    # INSERT YOUR CODE HERE\n",
    "    # TODO\n",
    "    # ***************************************************\n",
    "    # Be careful about the constant N (size) term!\n",
    "    # The complete objective for SVM is a sum, not an average as in earlier SGD examples!\n",
    "    raise NotImplementedError"
   ]
  },
  {
   "cell_type": "markdown",
   "metadata": {},
   "source": [
    "Implement stochastic gradient descent: Pick a data point uniformly at random and update w based on the gradient for the n-th summand of the objective"
   ]
  },
  {
   "cell_type": "code",
   "execution_count": null,
   "metadata": {},
   "outputs": [],
   "source": [
    "def sgd_for_svm_demo(y, X):\n",
    "    \n",
    "    max_iter = 100\n",
    "    gamma = 0.0001\n",
    "    lambda_ = 0.1\n",
    "    \n",
    "    num_samples, num_features = X.shape\n",
    "    sample_indices = range(num_samples)\n",
    "    w = np.zeros(num_features)\n",
    "    \n",
    "    for cur_iter in range(max_iter):\n",
    "        # n = sample one data point uniformly at random data from x\n",
    "        num_of_points = random.sample(sample_indices, num_samples)\n",
    "        for n in num_of_points:\n",
    "            # ***************************************************\n",
    "            # INSERT YOUR CODE HERE\n",
    "            # TODO: calculate loss, grad and update w\n",
    "            # *************************************************** \n",
    "            raise NotImplementedError\n",
    "        \n",
    "        if cur_iter % 10 == 0:\n",
    "            print(\"Current iteration={i}, the loss={l}\".format(i=cur_iter, l=loss))\n",
    "    \n",
    "    print(\"Objective = {l}\".format(l=calculate_error(y, X, w)))\n",
    "\n",
    "start_time = datetime.now()\n",
    "sgd_for_svm_demo(y, X)\n",
    "end_time = datetime.now()\n",
    "\n",
    "print('it takes {}'.format(end_time - start_time))"
   ]
  },
  {
   "cell_type": "markdown",
   "metadata": {},
   "source": [
    "## Coordinate Descent (Ascent) for SVM"
   ]
  },
  {
   "cell_type": "markdown",
   "metadata": {},
   "source": [
    "Compute the closed-form update for the n-th variable alpha, in the dual optimization problem, given alpha and the current corresponding w"
   ]
  },
  {
   "cell_type": "code",
   "execution_count": null,
   "metadata": {
    "collapsed": true
   },
   "outputs": [],
   "source": [
    "def calculate_coordinate_update(y, X, lambda_, alpha, w, n):\n",
    "    \"\"\"compute the stochastic gradient of loss plus regularizer.\n",
    "    X: the dataset matrix, shape = (num_samples, num_features)\n",
    "    y: the corresponding +1 or -1 labels, shape = (num_samples)\n",
    "    w: shape = (num_features)\n",
    "    N: num_samples\n",
    "    \"\"\"\n",
    "    # ***************************************************\n",
    "    # INSERT YOUR CODE HERE\n",
    "    # TODO\n",
    "    # ***************************************************\n",
    "    # calculate the update of coordinate at index=n.\n",
    "    raise NotImplementedError\n",
    "    return w, alpha"
   ]
  },
  {
   "cell_type": "code",
   "execution_count": null,
   "metadata": {},
   "outputs": [],
   "source": [
    "def calculate_dual_loss(y, X, w, alpha, lambda_):\n",
    "    \"\"\"calculate the loss for dual problem.\"\"\"\n",
    "    # ***************************************************\n",
    "    # INSERT YOUR CODE HERE\n",
    "    # TODO\n",
    "    # ***************************************************\n",
    "    raise NotImplementedError"
   ]
  },
  {
   "cell_type": "code",
   "execution_count": null,
   "metadata": {},
   "outputs": [],
   "source": [
    "def coordinate_descent_for_svm_demo(y, X):\n",
    "    max_iter = 100\n",
    "    lambda_ = 0.1\n",
    "\n",
    "    num_samples, num_features = X.shape\n",
    "    sample_indices = range(num_samples)\n",
    "    w = np.zeros(num_features)\n",
    "    alpha = np.zeros(num_samples)\n",
    "    \n",
    "    for cur_iter in range(max_iter):\n",
    "        # n = uniformly random data point from x\n",
    "        num_of_points = random.sample(sample_indices, num_samples)\n",
    "\n",
    "        for iteration in num_of_points:\n",
    "            n = sample_indices[iteration]\n",
    "            w, alpha = calculate_coordinate_update(y, X, lambda_, alpha, w, n)\n",
    "            \n",
    "        if cur_iter % 100 == 0:\n",
    "            # primal objective\n",
    "            primal_value = calculate_loss(y, X, w, lambda_)\n",
    "            # dual objective\n",
    "            dual_value = calculate_dual_loss(y, X, w, alpha, lambda_)\n",
    "            # primal dual gap\n",
    "            duality_gap = primal_value - dual_value\n",
    "            print('cur_iter:%i, primal:%.5f, dual:%.5f, gap:%.5f'%(\n",
    "                    cur_iter, primal_value, dual_value, duality_gap))\n",
    "    \n",
    "    print(\"Objective = {l}\".format(l=calculate_error(y, X, w)))\n",
    "\n",
    "start_time = datetime.now()\n",
    "coordinate_descent_for_svm_demo(y, X)\n",
    "end_time = datetime.now()\n",
    "\n",
    "print('it takes {}'.format(end_time - start_time))"
   ]
  },
  {
   "cell_type": "code",
   "execution_count": null,
   "metadata": {},
   "outputs": [],
   "source": []
  }
 ],
 "metadata": {
  "anaconda-cloud": {},
  "kernelspec": {
   "display_name": "Python 3",
   "language": "python",
   "name": "python3"
  },
  "language_info": {
   "codemirror_mode": {
    "name": "ipython",
    "version": 3
   },
   "file_extension": ".py",
   "mimetype": "text/x-python",
   "name": "python",
   "nbconvert_exporter": "python",
   "pygments_lexer": "ipython3",
   "version": "3.6.1"
  }
 },
 "nbformat": 4,
 "nbformat_minor": 1
}
